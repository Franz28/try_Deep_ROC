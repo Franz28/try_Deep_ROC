{
  "cells": [
    {
      "cell_type": "markdown",
      "metadata": {
        "id": "Dt_Zuz1RmAUY"
      },
      "source": [
        "# Deep ROC analysis tool introduction\n",
        "---\n",
        "## for your own results, or with examples\n",
        "### Code by André Carrington, Franz Mayr, Yusuf Sheikh  \n",
        "    \n",
        "This tool analyzes data in ROC plots in greater depth (hence deep ROC) than standard analyses. It reveals how a binary diagnostic test or binary classifier in different parts of an ROC plot--pertaining to different purposes or settings: e.g., medical screening versus medical diagnosis.  It reveals if a test or classifier performs the same or differently in subgroups of risk, and by how much. \n",
        "\n",
        "It can analyze real ROC data (your own results), or it can use example data and settings (hit enter for all inputs to accept defaults). To analyze your own results, just paste the probabilities (or classification scores) and labels when asked.  It is not a privacy risk since that result information is not identifiable.  Or, you can copy this notebook and run it privately in Google Colab or on your local machine.\n",
        "\n",
        "You can view the example results below (no need to run anything).  Or you can optionally choose to run the tool with your own data, or with built-in example data.  To run it, click \"Connect\" near the top right to begin (with a google account). In the menu at the top left, choose \"Runtime\" > \"Restart and run all\".  \n",
        "\n",
        "- code: https://pypi.org/project/deeproc/  \n",
        "\n",
        "open access papers:    \n",
        "  \n",
        "- Carrington AM, Manuel DG, Fieguth PW, Ramsay T, Osmani V, Wernly B, Bennett C, Hawken S, Magwood O, Sheikh Y, McInnes M, Holzinger A. Deep ROC Analysis and AUC as Balanced Average Accuracy for improved classifier selection, audit and explanation. IEEE Transactions on Pattern Analysis and Machine Intelligence, Early Access, January 25, 2022. https://doi.org/10.1109/TPAMI.2022.3145392\n",
        "\n",
        "- Carrington AM, Fieguth PW, Qazi H, Holzinger A, Chen HH, Mayr F and Manuel DG. A new concordant partial AUC and partial C statistic for imbalanced data in the evaluation of machine learning algorithms, BMC Medical Informatics and Decision Making 20, 4 (2020) https://doi.org/10.1186/s12911-019-1014-6  "
      ]
    },
    {
      "cell_type": "markdown",
      "source": [
        "# Install package"
      ],
      "metadata": {
        "id": "L09KTiU-8OCI"
      }
    },
    {
      "cell_type": "code",
      "execution_count": null,
      "metadata": {
        "colab": {
          "base_uri": "https://localhost:8080/"
        },
        "id": "JQaLpxSVmEms",
        "outputId": "02e577fb-2bd1-4e9d-c851-21935ebdca2b"
      },
      "outputs": [
        {
          "output_type": "stream",
          "name": "stdout",
          "text": [
            "Looking in indexes: https://pypi.org/simple, https://us-python.pkg.dev/colab-wheels/public/simple/\n",
            "Requirement already satisfied: deeproc in /usr/local/lib/python3.7/dist-packages (1.0.5)\n",
            "Collecting deeproc\n",
            "  Downloading deeproc-1.0.6-py3-none-any.whl (56 kB)\n",
            "\u001b[K     |████████████████████████████████| 56 kB 2.5 MB/s \n",
            "\u001b[?25hInstalling collected packages: deeproc\n",
            "  Attempting uninstall: deeproc\n",
            "    Found existing installation: deeproc 1.0.5\n",
            "    Uninstalling deeproc-1.0.5:\n",
            "      Successfully uninstalled deeproc-1.0.5\n",
            "Successfully installed deeproc-1.0.6\n"
          ]
        }
      ],
      "source": [
        "#@title\n",
        "!pip install --upgrade deeproc"
      ]
    },
    {
      "cell_type": "markdown",
      "metadata": {
        "id": "SsR_PTtryR36"
      },
      "source": [
        ""
      ]
    },
    {
      "cell_type": "code",
      "execution_count": null,
      "metadata": {
        "id": "lOmW1ulqySPh"
      },
      "outputs": [],
      "source": [
        ""
      ]
    },
    {
      "cell_type": "markdown",
      "metadata": {
        "id": "5pYpgpmplw87"
      },
      "source": [
        "#Define functions for user input"
      ]
    },
    {
      "cell_type": "code",
      "execution_count": null,
      "metadata": {
        "id": "9yyKCbaf_6ld",
        "cellView": "form"
      },
      "outputs": [],
      "source": [
        "#@title\n",
        "\n",
        "# Define user input functions\n",
        "\n",
        "# getYes\n",
        "# getChoice\n",
        "# getNumber\n",
        "# getList\n",
        "# getROCgroups\n",
        "\n",
        "import numpy as np\n",
        "\n",
        "def getYes(prompt,yes='y',no='n',default='y'):\n",
        "    #print('*'+prompt+'   '+'*')\n",
        "    response     = input(prompt+'  ')\n",
        "    if default.isupper():\n",
        "        response = response.upper()\n",
        "    if default.islower():\n",
        "        response = response.lower()\n",
        "    if response != yes and response != no: \n",
        "        if response != '':\n",
        "            print(f'Response not recognized, using default: {default}')\n",
        "        response = default\n",
        "        print(f'{default}')\n",
        "    #endif\n",
        "    return response\n",
        "#enddef\n",
        "\n",
        "def getChoice(options=[], default=1):\n",
        "  if len(options) == 0 or not str(default).isdigit():\n",
        "    return 0\n",
        "  \n",
        "  # show options\n",
        "  c = 0\n",
        "  for i in options:\n",
        "    c = c + 1\n",
        "    print(f'  {c}. {i}')\n",
        "\n",
        "  # get choice\n",
        "  choice = 0\n",
        "  while not str(choice).isdigit() or choice<1 or choice>len(options):\n",
        "    choice = input(f'\\nPlease indicate your choice [default {default}]:')\n",
        "    if choice == '':\n",
        "      choice = default\n",
        "      print(f'{choice:d}')\n",
        "    if str(choice).isdigit():\n",
        "      choice = int(choice)\n",
        "  \n",
        "  return choice\n",
        "#enddef\n",
        "\n",
        "def getNumber(prompt='Please enter a number', requireInt=False, \\\n",
        "              default=None, requireMin=-np.Inf, requireMax=np.Inf):\n",
        "    invalid = True\n",
        "    while invalid:\n",
        "        response = input(prompt+'  ')\n",
        "        if response == '' and default is not None:\n",
        "            if requireInt:\n",
        "                response = int(default)\n",
        "                print(f'{response:d}')\n",
        "            else:\n",
        "                response = float(default)\n",
        "                print(f'{response:0.3f}')\n",
        "            #endif\n",
        "            break\n",
        "        else:\n",
        "            try:\n",
        "                response = float(response)\n",
        "                if requireInt:\n",
        "                    response = int(response)\n",
        "                if response >= requireMin and response <= requireMax:\n",
        "                    break\n",
        "                    #invalid = False\n",
        "                else:\n",
        "                    print(f'Value out of range [{requireMin}, {requireMax}], try again.')\n",
        "                #endif\n",
        "            except ValueError:\n",
        "                print('Not a number, try again.')\n",
        "            #endtry\n",
        "        #endif\n",
        "    #endwhile\n",
        "    return response\n",
        "#enddef\n",
        "\n",
        "def getList(prompt='Please enter a horizontal list of comma separated ' + \\\n",
        "                   'values on one or more lines, with a final blank line.',\n",
        "            requiredLength=0,\n",
        "            requiredLengthMessage='Length does not match. Please try again.',\n",
        "            require01=False,\n",
        "            default=None):\n",
        "  if default is not None:\n",
        "    prompt = prompt + f'default = {default}\\n: '\n",
        "  c = 0\n",
        "  firstTry = True\n",
        "  failed01 = False\n",
        "  while c != requiredLength or firstTry or failed01:\n",
        "    if not firstTry and not failed01:\n",
        "      print(requiredLengthMessage)\n",
        "    text  = input(prompt)\n",
        "    if text == '':\n",
        "      alist = default\n",
        "      break\n",
        "    alist = [i for i in list(text.split(\",\"))]\n",
        "    c     = 0\n",
        "    failed01 = False\n",
        "    for item in alist:\n",
        "      try:\n",
        "        alist[c] = float(item)\n",
        "      except:\n",
        "        alist[c]   = np.nan\n",
        "        break\n",
        "      if require01 and alist[c]!=0.0 and alist[c]!=1.0:\n",
        "        print('List values must be in [0,1]')\n",
        "        failed01 = True\n",
        "        break\n",
        "      c = c + 1\n",
        "    #endfor\n",
        "    if requiredLength == 0 and not failed01:\n",
        "      break\n",
        "    firstTry = False\n",
        "  #endwhile\n",
        "  return alist\n",
        "#enddef\n",
        "\n",
        "def getROCgroups(prompt, default):\n",
        "    pArea_range_text = ''\n",
        "    while pArea_range_text.find(':') == -1:\n",
        "        if pArea_range_text != '':\n",
        "            print('Each group or range needs a \":\", please try again.') \n",
        "        pArea_range_text = input(prompt)\n",
        "\n",
        "    if   pArea_range_text == '':\n",
        "        pArea_range=default\n",
        "    else:\n",
        "        # given input text:        '[0:0.2],[0.2:0.5],[0.5:1.0]'\n",
        "        # create a list of lists: [[0.0,0.2], [0.2,0.5], [0.5,1.0]]\n",
        "        pArea_rangex = [i for i in list(pArea_range_text.split(\",\"))]\n",
        "        pArea_range  = []\n",
        "        all_parts    = [] # not used\n",
        "        try:\n",
        "            for j in pArea_rangex:\n",
        "                j2 = j.strip('[ ]')\n",
        "                one_part = []\n",
        "                for k in j2.split(\":\"):\n",
        "                    one_part  = one_part    + [float(k)]\n",
        "                    all_parts = all_parts   + [float(k)] # not used\n",
        "                pArea_range   = pArea_range + [one_part]\n",
        "                #endfor\n",
        "            #endfor\n",
        "        except ValueError:\n",
        "            print('Response not recognized')\n",
        "            raise\n",
        "        #endtry\n",
        "    #endif\n",
        "\n",
        "    # assume pArea_range is lowest to highest as requested (not checked)\n",
        "\n",
        "    # assess if pArea ranges completely span [0,1]\n",
        "    num_parts      = len(pArea_range)      \n",
        "    pArea_complete = 0\n",
        "    if pArea_range[0][0]==0.0 and pArea_range[-1][-1]==1.0:\n",
        "        pArea_complete = 1 # assume completeness unless we find otherwise...\n",
        "        if num_parts > 1:\n",
        "            for i in np.arange(0,num_parts-1):\n",
        "                if pArea_range[i][1]!=pArea_range[i+1][0]:\n",
        "                    pArea_complete = 0\n",
        "                #endif\n",
        "            #endfor\n",
        "        #endif\n",
        "    #endif\n",
        "    return pArea_range, pArea_complete\n",
        "#enddef"
      ]
    },
    {
      "cell_type": "markdown",
      "metadata": {
        "id": "pW9XfooUmSIV"
      },
      "source": [
        "# Define functions for example data\n",
        "### To load and classify data"
      ]
    },
    {
      "cell_type": "code",
      "execution_count": null,
      "metadata": {
        "cellView": "form",
        "id": "grK7F_DY9U0e"
      },
      "outputs": [],
      "source": [
        "#@title\n",
        "# Define function to load data and generate example classification results\n",
        "\n",
        "# Detect heart disease with Statlog Heart data\n",
        "# for results to use in Deep ROC analysis\n",
        "\n",
        "def loadHeart():\n",
        "  import pandas as pd\n",
        "  import numpy  as np\n",
        "  url          = 'https://raw.githubusercontent.com/DR3AM-Hub/BayesianROC/main/heart.csv'\n",
        "  data         = pd.read_csv(url)\n",
        "  print(\"\\nThe Statlog heart data has {0[0]} rows and {0[1]} columns.\".format(data.shape))\n",
        "  target       = \"heartDisease\"\n",
        "  diag_map     = {1:0, 2:1}  # 1 absence, 2 presence of heart disease\n",
        "  data[target] = data[target].map(diag_map) # series.map\n",
        "  temp         = list(data.columns)\n",
        "  predictors   = temp.copy()\n",
        "  predictors.remove(target)\n",
        "  X = np.array(data[predictors])\n",
        "  y = np.array(data[target])\n",
        "  patients = len(y)\n",
        "  pos      = len(y[y == 1])\n",
        "  neg      = len(y[y == 0])\n",
        "  print(f'\\nThe data have {patients} diagnoses, {pos} with disease and {neg} without.')\n",
        "  testSize = 0.2\n",
        "  return X, y, testSize\n",
        "#enddef\n",
        "\n",
        "def runClassifier(clfChoice, X, y, testSize, numFolds):\n",
        "  from sklearn.svm             import SVC                    as svc\n",
        "  from sklearn.ensemble        import RandomForestClassifier as rf\n",
        "  from sklearn.model_selection import train_test_split\n",
        "  # Note: the following are simplified examples, instead of best practice,\n",
        "  #       with single fixed values for hyperparameters.\n",
        "  if   clfChoice == 1:\n",
        "    clf = svc(kernel='linear', probability=True, class_weight='balanced')\n",
        "  elif clfChoice == 2:\n",
        "    clf = svc(kernel='rbf', probability=True, class_weight='balanced')\n",
        "  elif clfChoice == 3:\n",
        "    clf = rf(random_state=1, min_samples_split=75, class_weight='balanced')\n",
        "  random_state = 18\n",
        "  foldScores = [None] * numFolds\n",
        "  foldLabels = [None] * numFolds\n",
        "  for f in range(numFolds):\n",
        "    X_train, X_test, y_train, y_test = \\\n",
        "      train_test_split(X, y, test_size=testSize, random_state=random_state+f)\n",
        "    clf.fit(X_train, y_train)\n",
        "    tempScores    = clf.predict_proba(X_test)\n",
        "    foldScores[f] = tempScores[:, 1]\n",
        "    foldLabels[f] = y_test\n",
        "  #endfor\n",
        "  if numFolds == 1:\n",
        "    foldScores = foldScores[0]\n",
        "    foldLabels = foldLabels[0]\n",
        "  #endif\n",
        "  return foldScores, foldLabels\n",
        "#enddef"
      ]
    },
    {
      "cell_type": "markdown",
      "metadata": {
        "id": "nr_KOdkHmir3"
      },
      "source": [
        "# Get input\n",
        "### Enter your own results, or hit enter for everything to use example results and settings"
      ]
    },
    {
      "cell_type": "code",
      "execution_count": null,
      "metadata": {
        "colab": {
          "base_uri": "https://localhost:8080/"
        },
        "id": "EFDeWIp-xUrD",
        "outputId": "b9d44545-41cb-4fee-e040-7324985ad9d9",
        "cellView": "form"
      },
      "outputs": [
        {
          "output_type": "stream",
          "name": "stdout",
          "text": [
            "Deep ROC analysis examines groups (ranges) in an ROC plot by:\n",
            "  1. FPR\n",
            "  2. TPR\n",
            "\n",
            "Please indicate your choice [default 1]:\n",
            "1\n",
            "Use bins of equal size? [y]/n:   \n",
            "y\n",
            "\n",
            "Enter the number of groups/bins between 2 and 50 inclusive [default 3]:  \n",
            "3\n",
            "groups = [ [0.000:0.333], [0.333:0.667], [0.667:1.000]]\n",
            "\n",
            "To create a Deep ROC object, you can input\n",
            "  1. Classification scores (probabilities) and labels from a single test set\n",
            "  2. Classification scores (probabilities) and labels from multiple test folds\n",
            "  3. ROC curve coordinates (FPR, TPR) from a single test\n",
            "\n",
            "Please indicate your choice [default 1]:\n",
            "1\n",
            "\n",
            "Do you want to input scores (and labels) as:\n",
            "  1. Pasted horizontal lists of comma-separated values\n",
            "  2. Lists saved from a classifier run on Statlog Heart (example) data\n",
            "\n",
            "Please indicate your choice [default 1]:2\n",
            "\n",
            "What classifier would you like to run:\n",
            "  1. A linear support vector machine\n",
            "  2. A Gaussian RBF support vector machine\n",
            "  3. A random forest\n",
            "\n",
            "Please indicate your choice [default 1]:2\n",
            "\n",
            "The Statlog heart data has 270 rows and 14 columns.\n",
            "\n",
            "The data have 270 diagnoses, 120 with disease and 150 without.\n"
          ]
        }
      ],
      "source": [
        "#@title\n",
        "\n",
        "# Gather user input\n",
        "# The previous cell defines input functions used in this cell\n",
        "\n",
        "from sklearn.metrics import roc_curve\n",
        "\n",
        "# Get input about the DeepROC analysis and ROC data\n",
        "print('Deep ROC analysis examines groups (ranges) in an ROC plot by:')\n",
        "options    = [None] * 2\n",
        "options[0] = 'FPR'\n",
        "options[1] = 'TPR'\n",
        "grpChoice  = getChoice(options=options, default=1)\n",
        "if grpChoice == 1:\n",
        "  groupAxis = 'FPR'\n",
        "else:\n",
        "  groupAxis = 'TPR'\n",
        "#endif\n",
        "\n",
        "prompt = 'Use bins of equal size? [y]/n: '\n",
        "equalGroups = getYes(prompt)\n",
        "print('')\n",
        "if equalGroups:\n",
        "  numGroups = getNumber(prompt='Enter the number of groups/bins between 2 and 50 inclusive [default 3]:',\n",
        "                        default=3, requireInt=True, requireMin=2, requireMax=50)\n",
        "  groupsSpan01 = True\n",
        "  # create and print the groups\n",
        "  groups       = [None] * numGroups\n",
        "  print(f'groups = [ ', end='')\n",
        "  for g in range(0, numGroups):\n",
        "    a         = g     * (1/numGroups)\n",
        "    b         = (g+1) * (1/numGroups)\n",
        "    groups[g] = [a, b]\n",
        "    if g > 0:\n",
        "      print(', ', end='')\n",
        "    print(f'[{a:0.3f}:{b:0.3f}]', end='')\n",
        "  print(']')\n",
        "else:\n",
        "  prompt = 'Enter the groups, lowest to highest: \\n'+\\\n",
        "           'default: [0:0.33],[0.33:0.66],[0.66:1.0]\\n:'\n",
        "  groups, groupsSpan01 = getROCgroups(prompt, default=[[0,0.33],[0.33,0.66],[0.66,1.0]])\n",
        "\n",
        "print('\\nTo create a Deep ROC object, you can input')\n",
        "options    = [None] * 3\n",
        "options[0] = 'Classification scores (probabilities) and labels from a single test set'\n",
        "options[1] = 'Classification scores (probabilities) and labels from multiple test folds'\n",
        "options[2] = 'ROC curve coordinates (FPR, TPR) from a single test'\n",
        "#options[3] = 'Mean ROC curve coordinates (FPR, TPR) derived from multiple folds'\n",
        "rocChoice  = getChoice(options=options, default=1)\n",
        "\n",
        "print('\\nDo you want to input scores (and labels) as:')\n",
        "options    = [None] * 2\n",
        "options[0] = 'Pasted horizontal lists of comma-separated values'\n",
        "options[1] = 'Lists saved from a classifier run on Statlog Heart (example) data'\n",
        "# options[2] = 'Vertical columns in an uploaded file'\n",
        "fmtChoice  = getChoice(options=options, default=1)\n",
        "\n",
        "if fmtChoice == 2:\n",
        "  print('\\nWhat classifier would you like to run:')\n",
        "  options    = [None] * 3\n",
        "  options[0] = 'A linear support vector machine'\n",
        "  options[1] = 'A Gaussian RBF support vector machine'\n",
        "  options[2] = 'A random forest'\n",
        "  clfChoice  = getChoice(options=options, default=1)\n",
        "#endif\n",
        "\n",
        "# run classifier if applicable\n",
        "if fmtChoice == 2:\n",
        "  X, y, testSize = loadHeart()\n",
        "  if   rocChoice == 1 or rocChoice == 3:\n",
        "    scores, labels = runClassifier(clfChoice, X, y, testSize, 1)  # 1 validation set/fold\n",
        "    if rocChoice == 3:\n",
        "      fpr, tpr, threshold = roc_curve(labels, scores)\n",
        "  elif rocChoice == 2:\n",
        "    numFolds = getNumber(prompt='\\nHow many folds?', requireInt=True, \n",
        "                         requireMin=2, requireMax=10000)\n",
        "    foldScores, foldLabels = runClassifier(clfChoice, X, y, testSize, numFolds)\n",
        "  #endif\n",
        "else:\n",
        "\n",
        "  if rocChoice == 1:\n",
        "    if fmtChoice == 1:\n",
        "      defaultScores = [0.95,  0.9,  0.8,  0.7, 0.65, 0.64, 0.63, 0.62, 0.61, 0.60, 0.5, 0.49, 0.48, 0.47, 0.46,\\\n",
        "                      0.45, 0.44, 0.43, 0.40,  0.2 ]\n",
        "      defaultLabels = [   1,    1,    0,    1,    1,    1,    0,    0,    1,    0,   1,    0,    1,    0,    0,\\\n",
        "                          0,    1,    0,    1,    0 ]\n",
        "      scores   = getList('\\nPaste scores as a comma-separated list:\\n', default=defaultScores)\n",
        "      labels   = getList('Paste labels as a comma-separated list in {0,1}:\\n', \n",
        "                        requiredLength = len(scores), require01=True, default=defaultLabels)\n",
        "    #elif fmtChoice == 3:\n",
        "    #  scores   = data['scores']\n",
        "    #  labels   = data['labels']\n",
        "    #endif\n",
        "\n",
        "  elif   rocChoice == 2:\n",
        "    if   fmtChoice == 1:\n",
        "      numFolds = getNumber(prompt='\\nHow many folds?', requireInt=True, \n",
        "                          requireMin=2, requireMax=10000)\n",
        "      foldScores   = [None] * numFolds\n",
        "      foldLabels   = [None] * numFolds\n",
        "      fpr          = [None] * numFolds\n",
        "      tpr          = [None] * numFolds\n",
        "      threshold    = [None] * numFolds\n",
        "\n",
        "      for f in range(numFolds):\n",
        "        # Defaults are 2 folds of example ROC data\n",
        "        if   f == 0:\n",
        "          defaultScores = [0.95,  0.9,  0.8,  0.7, 0.65, 0.64, 0.63, 0.62, 0.61, 0.60, 0.5, 0.49, 0.48, 0.47, 0.46,\\\n",
        "                          0.45, 0.44, 0.43, 0.40,  0.2 ]\n",
        "          defaultLabels = [   1,    1,    0,    1,    1,    1,    0,    0,    1,    0,   1,    0,    1,    0,    0,\\\n",
        "                              0,    1,    0,    1,    0 ]\n",
        "        elif f == 1:\n",
        "          defaultScores = [0.95,  0.9,  0.8,  0.7, 0.65, 0.64, 0.63, 0.62, 0.61, 0.60, 0.5, 0.49, 0.48, 0.47, 0.46,\\\n",
        "                          0.45, 0.44, 0.43, 0.40,  0.2 ]\n",
        "          defaultLabels = [   1,    1,    0,    1,    1,    0,    0,    0,    0,    0,   0,    0,    1,    0,    0,\n",
        "                              0,    0,    0,    0,    0 ]\n",
        "        foldScores[f] = getList('\\nPaste scores as a comma-separated list:\\n', default=defaultScores)\n",
        "        foldLabels[f] = getList('Paste labels as a comma-separated list in {0,1}:\\n', \n",
        "                                requiredLength = len(foldScores[f]), default=defaultLabels)\n",
        "        \n",
        "        fpr[f], tpr[f], threshold[f] = roc_curve(foldLabels[f], foldScores[f])\n",
        "      #endfor\n",
        "    #elif fmtChoice == 3:\n",
        "    #  numFolds = len(data.columns)/2\n",
        "    #  for f in range(numFolds):\n",
        "    #    foldScores[f] = data[f'scores{f}'].squeeze()\n",
        "    #    foldLabels[f] = data[f'labels{f}'].squeeze()\n",
        "    #    fpr[f], tpr[f], threshold[f] = roc_curve(foldLabels[f], foldScores[f])\n",
        "    #  #endfor\n",
        "    #endif\n",
        "\n",
        "  elif rocChoice == 3:   # or rocChoice == 4:\n",
        "    fpr      = getList('\\nPaste FPR values as a comma-separated list:\\n')\n",
        "    tpr      = getList('Paste TPR values as a comma-separated list:\\n', requiredLength = len(fpr))\n",
        "  #endif\n",
        "#endif\n"
      ]
    },
    {
      "cell_type": "markdown",
      "metadata": {
        "id": "yR7M3KiPnVA9"
      },
      "source": [
        "# Compute deep ROC analysis"
      ]
    },
    {
      "cell_type": "code",
      "execution_count": null,
      "metadata": {
        "cellView": "form",
        "colab": {
          "base_uri": "https://localhost:8080/"
        },
        "id": "dmNW8SeObfks",
        "outputId": "881e6031-32f5-47b3-f9bb-b2599fa6d92a"
      },
      "outputs": [
        {
          "output_type": "stream",
          "name": "stdout",
          "text": [
            "Assuming Cost_FN:Cost_FP is 3:1\n",
            "Using sample prevalence: 0.556\n",
            "Deep ROC analysis computed.\n"
          ]
        }
      ],
      "source": [
        "#@title\n",
        "from io import StringIO\n",
        "from contextlib import redirect_stdout\n",
        "from deeproc.DeepROC import DeepROC\n",
        "# print('DeepROC imported.')\n",
        "\n",
        "# Create the deepROC object from input as scores/labels or fpr/tpr\n",
        "if   rocChoice == 1:\n",
        "  aDeepROC     = DeepROC(predicted_scores=scores, labels=labels, poslabel=1)\n",
        "\n",
        "elif rocChoice == 2:\n",
        "  aDeepROC     = DeepROC()\n",
        "  fpr          = [None] * numFolds\n",
        "  tpr          = [None] * numFolds\n",
        "  threshold    = [None] * numFolds\n",
        "  for f in range(numFolds):\n",
        "    fpr[f], tpr[f], threshold[f] = roc_curve(foldLabels[f], foldScores[f])\n",
        "    aDeepROC.set_fold(fpr=fpr[f], tpr=tpr[f], threshold=threshold[f])\n",
        " \n",
        "elif rocChoice == 3:\n",
        "  aDeepROC     = DeepROC()\n",
        "  aDeepROC.set_fpr_tpr(fpr=fpr, tpr=tpr)\n",
        "#endif\n",
        "# print('Deep ROC object created.')\n",
        "\n",
        "# set groups\n",
        "aDeepROC.setGroupsBy(groupAxis=groupAxis, groups=groups, \n",
        "                     groupByClosestInstance=False)\n",
        "# print('Groups set.')\n",
        "\n",
        "# set costs for optimal ROC point in ROC plots and later numeric analysis\n",
        "costs = {'cFN':3, 'cFP':1, 'cTP':0, 'cTN':0, 'costsAreRates':False}\n",
        "print(f\"Assuming Cost_FN:Cost_FP is {costs['cFN']}:{costs['cFP']}\")\n",
        "\n",
        "# set class ratio for optimal ROC point in ROC plots and later numeric analysis\n",
        "if rocChoice == 1 or rocChoice ==3:\n",
        "  print(f'Using sample prevalence: {sum(labels)/len(labels):0.3f}')\n",
        "elif rocChoice == 2:\n",
        "  labels = foldLabels[0]\n",
        "  for f in range(1, numFolds):\n",
        "    labels = labels + foldLabels[f]\n",
        "  print(f'Using weighted average sample prevalence: {sum(labels)/len(labels):0.2f}')\n",
        "#endif\n",
        "pos = sum(labels)\n",
        "neg = len(labels) - sum(labels)\n",
        "foldsNPclassRatio = neg / pos\n",
        "aDeepROC.setFoldsNPclassRatio(foldsNPclassRatio)\n",
        "\n",
        "# capture the text output from analyze (show it later) \n",
        "analysisOutput = StringIO()\n",
        "with redirect_stdout(analysisOutput):\n",
        "  # Deep ROC numeric analysis for each group\n",
        "  if   rocChoice == 1 or rocChoice == 3:\n",
        "    measure_dict = aDeepROC.analyze()\n",
        "    # measure_dict = aDeepROC.analyze(verbose=True)\n",
        "  elif rocChoice == 2:\n",
        "    measure_dict = aDeepROC.analyze(forFolds=True)\n",
        "    # measure_dict = aDeepROC.analyze(forFolds=True, verbose=True)\n",
        "\n",
        "print('Deep ROC analysis computed.')"
      ]
    },
    {
      "cell_type": "markdown",
      "source": [
        "# Deep ROC analysis plots"
      ],
      "metadata": {
        "id": "myfrGDlGwh4h"
      }
    },
    {
      "cell_type": "code",
      "source": [
        "#@title\n",
        "import matplotlib.pyplot as plt\n",
        "\n",
        "# Deep ROC plots, one per group\n",
        "print('Plots in deep ROC analysis (Carrington et al, 2022) show performance in')\n",
        "print('subgroups. AUC in part of an ROC curve, is the concordant partial AUC,')\n",
        "print('normalized (AUCn_i). It is an area-weighted average of average sensitivity')\n",
        "print('(vertical) and average specificity (horizontal).\\n')\n",
        "\n",
        "print('Legend: \\n   vertical area: yellow (and green for overlap)')\n",
        "print('   horizontal area: blue (and green for overlap)\\n')\n",
        "\n",
        "print('Note: average sensitivity and average specificity are based on areas')\n",
        "print('(area integrals, not line integrals). So, e.g., if the horizontal area')\n",
        "print('is zero, then the corresponding measure or part of a measure is zero.\\n')\n",
        "\n",
        "whichMeasures  = []\n",
        "\n",
        "##    Annotate plot with pre-test measures...\n",
        "\n",
        "## AUC in part of a ROC curve: concordant partial AUC\n",
        "# whichMeasures += ['AUC_i']  # 0.5*(vert+horiz area), sum=AUC\n",
        "whichMeasures   += ['AUCn_i'] # normalized for comparisons to AUC,\n",
        "                              # to other parts re AUCn_i, or to other \n",
        "                              # normalized measures, e.g. avgSens\n",
        "\n",
        "## C in part of a ROC curve: partial C statistic\n",
        "# whichMeasures += ['C_i']  # 0.5*(vert+horiz \"placement values\"), sum=C\n",
        "# whichMeasures += ['Cn_i'] # normalized for comparisons to C, AUC, etc\n",
        "\n",
        "## Sensitivity in part of a ROC curve: partial AUC\n",
        "# whichMeasures += ['pAUC']   # vertical area; sum=AUC\n",
        "whichMeasures += ['pAUCn']  # =avgSens, normalized for comparisons\n",
        "print('Note: pAUC normalized is average sensitivity.')\n",
        "# whichMeasures += ['avgSens']  # discrete computation, =pAUCn\n",
        "\n",
        "## Specificity in part of a ROC curve: horizontal partial AUC\n",
        "# whichMeasures += ['pAUCx']  # horizontal area; sum=AUC\n",
        "whichMeasures += ['pAUCxn'] # =avgSpec, normalized for comparisons\n",
        "print('Note: pAUCx normalized is average specificity.')\n",
        "# whichMeasures += ['avgSpec']  # discrete computation, =pAUCxn\n",
        "\n",
        "##    Annotate plot with post-test measures...\n",
        "\n",
        "whichMeasures += ['avgPPV'] # avg positive predictive value, precision\n",
        "# whichMeasures += ['avgNPV'] # avg negative predictive value, inverse precision\n",
        "# whichMeasures += ['avgLRp'] # avg likelihood ratio positive\n",
        "# whichMeasures += ['avgLRn'] # avg likelihood ratio negative\n",
        "whichMeasures += ['avgOR']  # avg odds ratio\n",
        "\n",
        "##    Annotate plot with additional pre-test measures...\n",
        "\n",
        "# whichMeasures += ['Uy_count']   # vertical part of U statistic\n",
        "# whichMeasures += ['C_area_y']   # vertical \"placement value\", sum=C\n",
        "# whichMeasures += ['Cn_avgSens'] # normalized for comparisons\n",
        "\n",
        "# whichMeasures += ['Ux_count']   # horizontal part of U statistic\n",
        "# whichMeasures += ['C_area_x']   # horizontal \"placement value\", sum=C\n",
        "# whichMeasures += ['Cn_avgSpec'] # normalized for comparisons\n",
        "\n",
        "## Specificity in part of a ROC curve FPR=[x,1]: partial area index\n",
        "if groupAxis == 'FPR':\n",
        "  print('', end='')  # do nothing\n",
        "  # whichMeasures += ['PAI']  \n",
        "  # print('Note: We compute a proxy measure for PAI.')\n",
        "\n",
        "## Erroneous attempt at AUC in a part: standardized partial area\n",
        "if groupAxis == 'FPR':\n",
        "  print('', end='')  # do nothing\n",
        "  # whichMeasures += ['sPA']\n",
        "  # print('Note: We compute a proxy measure for sPA.')\n",
        "\n",
        "print('Plot annotations can be changed in the code.')\n",
        "print(f'Annotating with: {whichMeasures}\\n')\n",
        "print(f'See comments in code for a detailed description of measures.\\n')\n",
        "\n",
        "numgroups = len(groups)\n",
        "for i in range(0, numgroups):\n",
        "  if   rocChoice == 1:\n",
        "    aDeepROC.plotGroup(plotTitle=f'Deep ROC Plot for group {i+1}', \n",
        "                        groupIndex=i, showError=False, showThresholds=True, \n",
        "                        showOptimalROCpoints=True, costs=costs, \n",
        "                        saveFileName=None, numShowThresh=20, showPlot=False, \n",
        "                        labelThresh=True, full_fpr_tpr=True)\n",
        "  elif rocChoice == 2:\n",
        "    aDeepROC.plotGroupForFolds(plotTitle=f'Deep ROC Plot for group {i+1}', \n",
        "                        groupIndex=i, foldsNPclassRatio=foldsNPclassRatio, \n",
        "                        showError=False, showThresholds=False, \n",
        "                        showOptimalROCpoints=True, costs=costs, \n",
        "                        saveFileName=None, numShowThresh=20, showPlot=False,\n",
        "                        labelThresh=False, full_fpr_tpr=True)\n",
        "  elif rocChoice == 3:\n",
        "    aDeepROC.plotGroup(plotTitle=f'Deep ROC Plot for group {i+1}', \n",
        "                        groupIndex=i, showError=False, showThresholds=False, \n",
        "                        showOptimalROCpoints=True, costs=costs, \n",
        "                        saveFileName=None, numShowThresh=20, showPlot=False, \n",
        "                        labelThresh=False, full_fpr_tpr=True)\n",
        "  #endif\n",
        "\n",
        "  top = False   # annotate on the bottom\n",
        "  if   aDeepROC.groupAxis == 'FPR' and measure_dict[i]['avgSens'] < 0.5:\n",
        "    top = True  # annotate on the top, if area is bottom-half\n",
        "  elif aDeepROC.groupAxis == 'TPR' and measure_dict[i]['avgSpec'] < 0.5:\n",
        "    top = True  \n",
        "  if aDeepROC.groupAxis == 'FPR' or aDeepROC.groupAxis == 'TPR':\n",
        "    aDeepROC.annotateGroup(i, measure_dict, whichMeasures, top=top)\n",
        "  #endif\n",
        "  plt.show()\n",
        "#endfor"
      ],
      "metadata": {
        "colab": {
          "base_uri": "https://localhost:8080/",
          "height": 1000
        },
        "id": "AcAz_8I7w4Dy",
        "outputId": "4aeb84f2-0352-4b36-845e-8f7e23f3bb34",
        "cellView": "form"
      },
      "execution_count": null,
      "outputs": [
        {
          "output_type": "stream",
          "name": "stdout",
          "text": [
            "Plots in deep ROC analysis (Carrington et al, 2022) show performance in\n",
            "subgroups. AUC in part of an ROC curve, is the concordant partial AUC,\n",
            "normalized (AUCn_i). It is an area-weighted average of average sensitivity\n",
            "(vertical) and average specificity (horizontal).\n",
            "\n",
            "Legend: \n",
            "   vertical area: yellow (and green for overlap)\n",
            "   horizontal area: blue (and green for overlap)\n",
            "\n",
            "Note: average sensitivity and average specificity are based on areas\n",
            "(area integrals, not line integrals). So, e.g., if the horizontal area\n",
            "is zero, then the corresponding measure or part of a measure is zero.\n",
            "\n",
            "Note: pAUC normalized is average sensitivity.\n",
            "Note: pAUCx normalized is average specificity.\n",
            "Plot annotations can be changed in the code.\n",
            "Annotating with: ['AUCn_i', 'pAUCn', 'pAUCxn', 'avgPPV', 'avgOR']\n",
            "\n"
          ]
        },
        {
          "output_type": "display_data",
          "data": {
            "text/plain": [
              "<Figure size 432x288 with 1 Axes>"
            ],
            "image/png": "[encoded data removed]"
          },
          "metadata": {
            "needs_background": "light"
          }
        },
        {
          "output_type": "display_data",
          "data": {
            "text/plain": [
              "<Figure size 432x288 with 1 Axes>"
            ],
            "image/png": "[encoded data removed]"
          },
          "metadata": {
            "needs_background": "light"
          }
        },
        {
          "output_type": "display_data",
          "data": {
            "text/plain": [
              "<Figure size 432x288 with 1 Axes>"
            ],
            "image/png": "[encoded data removed]"
          },
          "metadata": {
            "needs_background": "light"
          }
        }
      ]
    },
    {
      "cell_type": "markdown",
      "source": [
        "# Deep ROC analysis numbers"
      ],
      "metadata": {
        "id": "D0LK3_jI8B5u"
      }
    },
    {
      "cell_type": "code",
      "source": [
        "#@title\n",
        "# Deep ROC analsis per group\n",
        "print('Deep ROC analysis (Carrington et al, 2022) shows performance in subgroups.')\n",
        "print('AUC in part of an ROC curve, is the concordant partial AUC, normalized')\n",
        "print('(AUCn_i). It is an area-weighted average of average sensitivity (vertical)')\n",
        "print('and average specificity (horizontal).\\n')\n",
        "\n",
        "print('Note: average sensitivity and average specificity are based on areas')\n",
        "print('(area integrals, not line integrals). So, e.g., if the horizontal area')\n",
        "print('is zero, then the corresponding measure or part of a measure is zero.\\n')\n",
        "\n",
        "print('More measures can be selected in the code with verbose=True.\\n')\n",
        "\n",
        "analysisOutput.seek(0)\n",
        "print(analysisOutput.read())"
      ],
      "metadata": {
        "colab": {
          "base_uri": "https://localhost:8080/"
        },
        "cellView": "form",
        "id": "JQ_uZb_o8Cvn",
        "outputId": "2d1da3b2-407d-4a61-9e6f-8a4cf34a464b"
      },
      "execution_count": null,
      "outputs": [
        {
          "output_type": "stream",
          "name": "stdout",
          "text": [
            "Deep ROC analysis (Carrington et al, 2022) shows performance in subgroups.\n",
            "AUC in part of an ROC curve, is the concordant partial AUC, normalized\n",
            "(AUCn_i). It is an area-weighted average of average sensitivity (vertical)\n",
            "and average specificity (horizontal).\n",
            "\n",
            "Note: average sensitivity and average specificity are based on areas\n",
            "(area integrals, not line integrals). So, e.g., if the horizontal area\n",
            "is zero, then the corresponding measure or part of a measure is zero.\n",
            "\n",
            "More measures can be selected in the code with verbose=True.\n",
            "\n",
            "\n",
            "Group 1:\n",
            "FPR              = [0.000 0.333]\n",
            "TPR              = [0.000 0.800]\n",
            "Thresholds       = [inf   0.315]\n",
            "\n",
            "C_1              = 0.4125  (Partial C statistic)\n",
            "Cn_1             = 0.7279  (Normalized partial C statistic)\n",
            " \n",
            "AUC_1            = 0.4125  (Concordant Partial AUC)\n",
            "AUCn_1           = 0.7279  (Normalized concordant partial AUC)\n",
            " \n",
            "pAUCn_1          = 0.4375  (Average sensitivity)\n",
            "pAUCxn_1         = 0.8490  (Average specificity)\n",
            "avgSens_1        = 0.4375  computed with discrete method\n",
            "avgSpec_1        = 0.8490  computed with discrete method\n",
            " \n",
            "avgPPV_1         = 0.7935  computed with discrete method\n",
            "avgNPV_1         = 0.5530  computed with discrete method\n",
            " \n",
            "\n",
            "Group 2:\n",
            "FPR              = [0.333 0.667]\n",
            "TPR              = [0.800 0.867]\n",
            "Thresholds       = [0.315 0.243]\n",
            "\n",
            "C_2              = 0.1542  (Partial C statistic)\n",
            "Cn_2             = 0.7708  (Normalized partial C statistic)\n",
            " \n",
            "AUC_2            = 0.1542  (Concordant Partial AUC)\n",
            "AUCn_2           = 0.7708  (Normalized concordant partial AUC)\n",
            " \n",
            "pAUCn_2          = 0.8292  (Average sensitivity)\n",
            "pAUCxn_2         = 0.4792  (Average specificity)\n",
            "avgSens_2        = 0.8292  computed with discrete method\n",
            "avgSpec_2        = 0.4792  computed with discrete method\n",
            " \n",
            "avgPPV_2         = 0.6759  computed with discrete method\n",
            "avgNPV_2         = 0.6986  computed with discrete method\n",
            " \n",
            "\n",
            "Group 3:\n",
            "FPR              = [0.667 1.000]\n",
            "TPR              = [0.867 1.000]\n",
            "Thresholds       = [0.243 0.062]\n",
            "\n",
            "C_3              = 0.1667  (Partial C statistic)\n",
            "Cn_3             = 0.7143  (Normalized partial C statistic)\n",
            " \n",
            "AUC_3            = 0.1667  (Concordant Partial AUC)\n",
            "AUCn_3           = 0.7143  (Normalized concordant partial AUC)\n",
            " \n",
            "pAUCn_3          = 0.9333  (Average sensitivity)\n",
            "pAUCxn_3         = 0.1667  (Average specificity)\n",
            "avgSens_3        = 0.9333  computed with discrete method\n",
            "avgSpec_3        = 0.1667  computed with discrete method\n",
            " \n",
            "avgPPV_3         = 0.5843  computed with discrete method\n",
            "avgNPV_3         = 0.7420  computed with discrete method\n",
            " \n",
            "\n"
          ]
        }
      ]
    },
    {
      "cell_type": "markdown",
      "metadata": {
        "id": "ZRB-8kaunIMq"
      },
      "source": [
        "# Concordance matrix\n",
        "\n"
      ]
    },
    {
      "cell_type": "code",
      "execution_count": null,
      "metadata": {
        "cellView": "form",
        "colab": {
          "base_uri": "https://localhost:8080/",
          "height": 352
        },
        "id": "3hjm2FWYnJAO",
        "outputId": "c4dc70c8-af5d-4f80-ba14-1136af3176c1"
      },
      "outputs": [
        {
          "output_type": "stream",
          "name": "stdout",
          "text": [
            "ConcordanceMatrix imported.\n",
            "The concordance matrix (Carrington, 2020) shows the relationship of instances to the ROC plot.\n",
            "It applies to a set or fold of empirical score/label data.\n"
          ]
        },
        {
          "output_type": "display_data",
          "data": {
            "text/plain": [
              "<Figure size 432x288 with 1 Axes>"
            ],
            "image/png": "[encoded data removed]"
          },
          "metadata": {
            "needs_background": "light"
          }
        }
      ],
      "source": [
        "#@title\n",
        "\n",
        "from deeproc.ConcordanceMatrixPlot import ConcordanceMatrixPlot\n",
        "print('ConcordanceMatrix imported.')\n",
        "\n",
        "# show enhanced ROC plot\n",
        "if   rocChoice == 1:\n",
        "  print('The concordance matrix (Carrington, 2020) shows the relationship of instances to the ROC plot.')\n",
        "  print('It applies to a set or fold of empirical score/label data.')\n",
        "  aCMplot = ConcordanceMatrixPlot(aDeepROC)\n",
        "  aCMplot.plot(plotTitle=f'Concordance Matrix',\n",
        "               showThresholds=True, showOptimalROCpoints=True, costs=costs,\n",
        "               saveFileName=None, numShowThresholds=20, \n",
        "               showPlot=True, labelThresh=True)\n",
        "elif rocChoice == 2:\n",
        "  print('The concordance matrix (Carrington, 2020) applies to a set or fold of empirical')\n",
        "  print('score/label data, not a mean ROC curve/plot.')\n",
        "elif rocChoice == 3:\n",
        "  print('A concordance matrix is not available for ROC input data in (fpr, tpr) form. Scores and labels are required.')\n"
      ]
    },
    {
      "cell_type": "markdown",
      "metadata": {
        "id": "mFP0MDISnJdK"
      },
      "source": [
        "# Enhancements in our ROC plots"
      ]
    },
    {
      "cell_type": "code",
      "execution_count": null,
      "metadata": {
        "cellView": "form",
        "colab": {
          "base_uri": "https://localhost:8080/",
          "height": 405
        },
        "id": "hb-t1FeJnJ9T",
        "outputId": "087d6d22-1959-4078-d235-c9533d782434"
      },
      "outputs": [
        {
          "output_type": "stream",
          "name": "stdout",
          "text": [
            "Enhancements include:\n",
            "  - showing thresholds in the plot\n",
            "  - including thresholds that are ties in score along sloped segments\n",
            "  - one or more optimal ROC point(s) (red)\n",
            "  - the accurate threshold at (0, 0), versus sklearn's arbitrary max(t)+1\n"
          ]
        },
        {
          "output_type": "display_data",
          "data": {
            "text/plain": [
              "<Figure size 432x288 with 1 Axes>"
            ],
            "image/png": "[encoded data removed]"
          },
          "metadata": {
            "needs_background": "light"
          }
        },
        {
          "output_type": "display_data",
          "data": {
            "text/plain": [
              "<Figure size 432x288 with 0 Axes>"
            ]
          },
          "metadata": {}
        }
      ],
      "source": [
        "#@title\n",
        "# Enhancements in our ROC plots with optimal ROC points and thresholds\n",
        "\n",
        "# show enhanced ROC plot\n",
        "from matplotlib.pyplot import grid, figure\n",
        "if   rocChoice == 1:\n",
        "  print('Enhancements include:')\n",
        "  print('  - showing thresholds in the plot')\n",
        "  print('  - including thresholds that are ties in score along sloped segments')\n",
        "  print('  - one or more optimal ROC point(s) (red)')\n",
        "  print(\"  - the accurate threshold at (0, 0), versus sklearn's arbitrary max(t)+1\")\n",
        "  fig, ax = aDeepROC.plot(plotTitle='Enhanced ROC Plot',\n",
        "                showThresholds=True, showOptimalROCpoints=True, costs=costs,\n",
        "                saveFileName=None, numShowThresh=20, \n",
        "                showPlot=True, labelThresh=True, full_fpr_tpr=True)\n",
        "  figure(fig.number)\n",
        "elif rocChoice == 2:\n",
        "  # show mean ROC plot\n",
        "  print('Thresholds do not apply to a mean ROC plot (hence none are shown).')\n",
        "  print('The only enhancement in this case, is the optimal ROC point (in red).')\n",
        "\n",
        "  # the following is a work-around until the mean ROC plot without groups\n",
        "  # is fixed to show the optimal ROC point.\n",
        "  # aDeepROC.plot_folds(plotTitle='Mean ROC Plot with folds', \n",
        "  #                     showOptimalROCpoints=True, costs=costs,\n",
        "  #                     saveFileName=None, showPlot=True)\n",
        "  groups_temp = [[0, 1], [0, 1]]\n",
        "  aDeepROC.setGroupsBy(groupAxis=groupAxis, groups=groups_temp, \n",
        "                       groupByClosestInstance=False)\n",
        "  aDeepROC.plotGroupForFolds(plotTitle=f'Enhanced ROC Plot', \n",
        "                        groupIndex=0, foldsNPclassRatio=foldsNPclassRatio, \n",
        "                        showError=False, showThresholds=False, \n",
        "                        showOptimalROCpoints=True, costs=costs, \n",
        "                        saveFileName=None, numShowThresh=20, \n",
        "                        showPlot=True, labelThresh=False, full_fpr_tpr=True)\n",
        "  grid(True)\n",
        "elif rocChoice == 3:\n",
        "  print('Enhancements include:')\n",
        "  print('  - showing thresholds in the plot')\n",
        "  print('  - including thresholds that are ties in score along sloped segments')\n",
        "  print('  - one or more optimal ROC point(s) (red)')\n",
        "  print(\"  - the accurate threshold at (0, 0), versus sklearn's arbitrary max(t)+1\")\n",
        "  aDeepROC.plot(plotTitle='Enhanced ROC Plot',\n",
        "                showThresholds=False, showOptimalROCpoints=True, costs=costs,\n",
        "                saveFileName=None, numShowThresh=20, \n",
        "                showPlot=True, labelThresh=False, full_fpr_tpr=True)\n",
        "  grid(True)\n",
        "#endif"
      ]
    },
    {
      "cell_type": "markdown",
      "metadata": {
        "id": "MlJIQYvunKbp"
      },
      "source": [
        "# Standard ROC plot"
      ]
    },
    {
      "cell_type": "code",
      "execution_count": null,
      "metadata": {
        "cellView": "form",
        "colab": {
          "base_uri": "https://localhost:8080/",
          "height": 405
        },
        "id": "Lh0UokmQnK_L",
        "outputId": "35761b4e-5f3b-488e-b354-a3600b35db6f"
      },
      "outputs": [
        {
          "output_type": "stream",
          "name": "stdout",
          "text": [
            "The AUC and C statistic are equal in value for empirical ROC curves,\n",
            "as continuous and discrete formulas, respectively. AUC can be computed on\n",
            "fitted ROC curves and mean ROC curves, for which C is unavailable.\n",
            "\n",
            "AUC: 0.7333\n",
            "C statistic: 0.7333\n"
          ]
        },
        {
          "output_type": "display_data",
          "data": {
            "text/plain": [
              "<Figure size 432x288 with 1 Axes>"
            ],
            "image/png": "[encoded data removed]"
          },
          "metadata": {
            "needs_background": "light"
          }
        }
      ],
      "source": [
        "#@title\n",
        "# Standard AUC, C statistic and ROC plot\n",
        "\n",
        "# show AUC and C statistic\n",
        "print('The AUC and C statistic are equal in value for empirical ROC curves,') \n",
        "print('as continuous and discrete formulas, respectively. AUC can be computed on') \n",
        "print('fitted ROC curves and mean ROC curves, for which C is unavailable.\\n')\n",
        "if   rocChoice == 1:\n",
        "  print(f'AUC: {aDeepROC.getAUC():0.4f}')\n",
        "  print(f'C statistic: {aDeepROC.getC():0.4f}') \n",
        "elif rocChoice == 2:\n",
        "  meanAUC, lowAUC, highAUC, AUCs = aDeepROC.getMeanAUC_andCI()\n",
        "  print(f'AUC or C statistic in each fold: ', end='')\n",
        "  for tempAUC in AUCs:\n",
        "    print(f'{tempAUC:0.4f} ', end='')\n",
        "  print('')\n",
        "  print(f'AUC of Mean ROC: {aDeepROC.getAUCofMeanROC():0.4f}')\n",
        "  print(f'Mean AUC or mean C statistic with CIs: {meanAUC:0.4f} [{lowAUC:0.4f}, {highAUC:0.4f}]')\n",
        "elif rocChoice == 3:\n",
        "  print(f'AUC: {aDeepROC.getAUC():0.4f}')\n",
        "#endif\n",
        "\n",
        "# show standard ROC plot\n",
        "from sklearn.metrics         import roc_curve\n",
        "from matplotlib.pyplot       import figure, plot, title, show, grid\n",
        "from deeproc.Helpers.ROCPlot import plotROC\n",
        "if   rocChoice == 1:\n",
        "  fpr, tpr, threshold = roc_curve(labels, scores, drop_intermediate=False)\n",
        "  plotROC(fpr, tpr, 'ROC plot', numThresh=1, thresh=[0], fancyLabel=None)\n",
        "  grid(True)\n",
        "  #figure()\n",
        "  #plot(fpr, tpr)\n",
        "  #title('ROC plot')\n",
        "elif rocChoice == 2:\n",
        "  # show mean ROC plot\n",
        "  aDeepROC.plot_folds(plotTitle='Mean ROC Plot with folds')\n",
        "elif rocChoice == 3:\n",
        "  plotROC(fpr, tpr, 'ROC plot', numThresh=1, thresh=[0], fancyLabel=None)\n",
        "  grid(True)\n",
        "  #figure()\n",
        "  #plot(fpr, tpr)\n",
        "  #title('ROC plot')\n",
        "#endif"
      ]
    }
  ],
  "metadata": {
    "colab": {
      "collapsed_sections": [],
      "name": "Try Deep ROC Analysis.ipynb",
      "provenance": [],
      "toc_visible": true
    },
    "kernelspec": {
      "display_name": "Python 3",
      "name": "python3"
    },
    "language_info": {
      "name": "python"
    }
  },
  "nbformat": 4,
  "nbformat_minor": 0
}